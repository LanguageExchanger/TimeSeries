{
  "nbformat": 4,
  "nbformat_minor": 0,
  "metadata": {
    "colab": {
      "provenance": [],
      "authorship_tag": "ABX9TyOF7wILIqhxPKe2mlDt8OK2",
      "include_colab_link": true
    },
    "kernelspec": {
      "name": "python3",
      "display_name": "Python 3"
    },
    "language_info": {
      "name": "python"
    }
  },
  "cells": [
    {
      "cell_type": "markdown",
      "metadata": {
        "id": "view-in-github",
        "colab_type": "text"
      },
      "source": [
        "<a href=\"https://colab.research.google.com/github/LanguageExchanger/TimeSeries/blob/main/DataLabelling.ipynb\" target=\"_parent\"><img src=\"https://colab.research.google.com/assets/colab-badge.svg\" alt=\"Open In Colab\"/></a>"
      ]
    },
    {
      "cell_type": "code",
      "execution_count": 1,
      "metadata": {
        "colab": {
          "base_uri": "https://localhost:8080/"
        },
        "id": "L482NahG58aR",
        "outputId": "eeec3164-ad52-4a23-a58a-2e31ffc73b01"
      },
      "outputs": [
        {
          "output_type": "stream",
          "name": "stdout",
          "text": [
            "<class 'pandas.core.frame.DataFrame'>\n",
            "RangeIndex: 378439 entries, 0 to 378438\n",
            "Data columns (total 6 columns):\n",
            " #   Column  Non-Null Count   Dtype  \n",
            "---  ------  --------------   -----  \n",
            " 0   time    378439 non-null  object \n",
            " 1   open    378438 non-null  float64\n",
            " 2   high    378438 non-null  float64\n",
            " 3   low     378438 non-null  float64\n",
            " 4   close   378438 non-null  float64\n",
            " 5   volume  378438 non-null  float64\n",
            "dtypes: float64(5), object(1)\n",
            "memory usage: 17.3+ MB\n"
          ]
        },
        {
          "output_type": "execute_result",
          "data": {
            "text/plain": [
              "(None,\n",
              "                   time      open      high       low     close     volume\n",
              " 0  2017-09-25 03:00:00  324500.0  325500.0  322000.0  324000.0  52.477251\n",
              " 1  2017-09-25 03:01:00  324000.0  324000.0  322500.0  324000.0  39.061889\n",
              " 2  2017-09-25 03:02:00  322500.0  324500.0  322500.0  324500.0  12.794000\n",
              " 3  2017-09-25 03:05:00  324000.0  324000.0  323000.0  324000.0  33.365246\n",
              " 4  2017-09-25 03:06:00  324000.0  325000.0  322500.0  324000.0  46.224544)"
            ]
          },
          "metadata": {},
          "execution_count": 1
        }
      ],
      "source": [
        "import pandas as pd\n",
        "\n",
        "# Load the Ethereum price data from the uploaded CSV file\n",
        "file_path = \"/content/sub_upbit_eth_min_tick.csv\"\n",
        "df = pd.read_csv(file_path)\n",
        "\n",
        "# Display basic information and the first few rows\n",
        "df.info(), df.head()"
      ]
    },
    {
      "cell_type": "markdown",
      "source": [
        "✅ Step 1: Return Threshold Banding\n",
        "\n",
        "* 목표: 일정 시간(예: h = 60분) 후 수익률 계산\n",
        "* 수익률이 +1% 초과 → Label = 1\n",
        "* 수익률이 -1% 미만 → Label = 0\n",
        "* 그 사이는 Label 없음 (제외)"
      ],
      "metadata": {
        "id": "1kbTPusB_CsA"
      }
    },
    {
      "cell_type": "code",
      "source": [
        "# Convert 'time' to datetime and sort\n",
        "df['time'] = pd.to_datetime(df['time'], format='mixed')\n",
        "df = df.sort_values('time').reset_index(drop=True)\n",
        "\n",
        "# Parameters\n",
        "horizon = 60  # lookahead horizon in minutes\n",
        "threshold = 0.01  # ±1% threshold\n",
        "\n",
        "# Compute forward returns using close prices\n",
        "df['future_close'] = df['close'].shift(-horizon)\n",
        "df['return'] = (df['future_close'] - df['close']) / df['close']\n",
        "\n",
        "# Labeling\n",
        "def label_return(r, th=threshold):\n",
        "    if r > th:\n",
        "        return 1\n",
        "    elif r < -th:\n",
        "        return 0\n",
        "    else:\n",
        "        return None  # ambiguous zone\n",
        "\n",
        "df['label'] = df['return'].apply(label_return)\n",
        "\n",
        "# 결과 요약: 라벨 분포 확인\n",
        "label_counts = df['label'].value_counts(dropna=False)\n",
        "label_counts\n"
      ],
      "metadata": {
        "colab": {
          "base_uri": "https://localhost:8080/",
          "height": 209
        },
        "id": "oETha_vk-sNg",
        "outputId": "67d01f3e-dd38-4398-8fa5-5efbebcd584b"
      },
      "execution_count": 3,
      "outputs": [
        {
          "output_type": "execute_result",
          "data": {
            "text/plain": [
              "label\n",
              "NaN    266745\n",
              "1.0     56994\n",
              "0.0     54700\n",
              "Name: count, dtype: int64"
            ],
            "text/html": [
              "<div>\n",
              "<style scoped>\n",
              "    .dataframe tbody tr th:only-of-type {\n",
              "        vertical-align: middle;\n",
              "    }\n",
              "\n",
              "    .dataframe tbody tr th {\n",
              "        vertical-align: top;\n",
              "    }\n",
              "\n",
              "    .dataframe thead th {\n",
              "        text-align: right;\n",
              "    }\n",
              "</style>\n",
              "<table border=\"1\" class=\"dataframe\">\n",
              "  <thead>\n",
              "    <tr style=\"text-align: right;\">\n",
              "      <th></th>\n",
              "      <th>count</th>\n",
              "    </tr>\n",
              "    <tr>\n",
              "      <th>label</th>\n",
              "      <th></th>\n",
              "    </tr>\n",
              "  </thead>\n",
              "  <tbody>\n",
              "    <tr>\n",
              "      <th>NaN</th>\n",
              "      <td>266745</td>\n",
              "    </tr>\n",
              "    <tr>\n",
              "      <th>1.0</th>\n",
              "      <td>56994</td>\n",
              "    </tr>\n",
              "    <tr>\n",
              "      <th>0.0</th>\n",
              "      <td>54700</td>\n",
              "    </tr>\n",
              "  </tbody>\n",
              "</table>\n",
              "</div><br><label><b>dtype:</b> int64</label>"
            ]
          },
          "metadata": {},
          "execution_count": 3
        }
      ]
    },
    {
      "cell_type": "markdown",
      "source": [
        "✅ 라벨 분포 결과 (60분 후 수익률 기준 ±1% band 사용)\n",
        "\n",
        "| 라벨    | 의미          | 샘플 수     | 비율      |\n",
        "| ----- | ----------- | -------- | ------- |\n",
        "| `1.0` | +1% 이상 상승   | 56,994건 | 약 10.5% |\n",
        "| `0.0` | -1% 이하 하락   | 54,700건 | 약 10.2% |\n",
        "| `NaN` | ±1% 사이 (제외) | 266,745건 | 약 79.3% |\n"
      ],
      "metadata": {
        "id": "SjJh5KYv_pIK"
      }
    },
    {
      "cell_type": "markdown",
      "source": [
        "🔍 해석\n",
        "* 대부분의 시점에서는 ±1% 이내의 변동만 발생했기 때문에, 해당 라벨은 제외되었어.\n",
        "* 이렇게 하면 모델이 의미 있는 등락만 학습하게 되고, 노이즈가 줄어들게 돼.\n",
        "* 하지만 데이터의 80% 가까이 제외되므로 이후 모델 학습 시에는 충분한 샘플 수 확보를 위한 추가 전략이 필요할 수 있어 (예: 라벨 윈도우 다변화, 다중 시계 범위)."
      ],
      "metadata": {
        "id": "3kMyqy2j_w52"
      }
    }
  ]
}